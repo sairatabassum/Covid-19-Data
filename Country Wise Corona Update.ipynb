{
 "cells": [
  {
   "cell_type": "markdown",
   "metadata": {},
   "source": [
    "#                                  Country wise Corona Update                          \n",
    "---------------------------------------------------------------------------------------------------------------------------\n",
    "\n",
    "## Web Scraping\n",
    "\n",
    "1. The url https://worldometers.info/coronavirus/country/country_name/\n",
    "2. Inspecting the page\n",
    "3. The data heading and Cases Numbers extract\n",
    "4. Storing The data in list\n",
    "\n"
   ]
  },
  {
   "cell_type": "code",
   "execution_count": 1,
   "metadata": {},
   "outputs": [
    {
     "name": "stdout",
     "output_type": "stream",
     "text": [
      "Enter Country name: india\n",
      "\n",
      "\n",
      "India\n",
      "Coronavirus Cases: 16,960,172\n",
      "Deaths: 192,311\n",
      "Recovered: 14,085,110\n",
      "\n",
      "Do you want to exit y/n? n\n",
      "Enter Country name: bangladesh\n",
      "\n",
      "\n",
      "Bangladesh\n",
      "Coronavirus Cases: 745,322\n",
      "Deaths: 11,053\n",
      "Recovered: 657,452\n",
      "\n",
      "Do you want to exit y/n? n\n",
      "Enter Country name: china\n",
      "\n",
      "\n",
      "China\n",
      "Coronavirus Cases: 90,588\n",
      "Deaths: 4,636\n",
      "Recovered: 85,644\n",
      "\n",
      "Do you want to exit y/n? n\n",
      "Enter Country name: bhutan\n",
      "\n",
      "\n",
      "Bhutan\n",
      "Coronavirus Cases: 1,018\n",
      "Deaths: 1\n",
      "Recovered: 927\n",
      "\n",
      "Do you want to exit y/n? y\n"
     ]
    }
   ],
   "source": [
    "import requests\n",
    "from bs4 import BeautifulSoup\n",
    "\n",
    "yes=True\n",
    "\n",
    "\n",
    "while(yes):\n",
    "    \n",
    "    country = input(\"Enter Country name: \")\n",
    "    url = \"https://worldometers.info/coronavirus/country/\" + country + \"/\"\n",
    "\n",
    "    r = requests.get(url)\n",
    "    soup = BeautifulSoup(r.content,'html.parser')\n",
    "\n",
    "    number = soup.find_all(\"div\",{\"class\": \"maincounter-number\"})\n",
    "    heading = soup.find_all('h1')\n",
    "\n",
    "    Heading = []\n",
    "    Number = []\n",
    "    All = []\n",
    "\n",
    "    cnt = -1;\n",
    "    ind = 0\n",
    "\n",
    "    for x in number:\n",
    "        u = x.text.strip()\n",
    "        Number.append(u)\n",
    "\n",
    "    for y in heading:\n",
    "        u = y.text.strip()\n",
    "        cnt = cnt + 1\n",
    "        if (cnt == 0):\n",
    "            All.append(u)\n",
    "        else:\n",
    "            All.append(u + ' ' + Number[ind])\n",
    "            ind = ind + 1\n",
    "\n",
    "    print(\"\\n\")\n",
    "    for i in All:\n",
    "        print(i)\n",
    "        \n",
    "    y=input (\"\\nDo you want to exit y/n? \")\n",
    "    if (y==\"y\" or y==\"Y\" ):\n",
    "        yes=False\n",
    "\n",
    "\n"
   ]
  }
 ],
 "metadata": {
  "celltoolbar": "Slideshow",
  "kernelspec": {
   "display_name": "Python 3",
   "language": "python",
   "name": "python3"
  },
  "language_info": {
   "codemirror_mode": {
    "name": "ipython",
    "version": 3
   },
   "file_extension": ".py",
   "mimetype": "text/x-python",
   "name": "python",
   "nbconvert_exporter": "python",
   "pygments_lexer": "ipython3",
   "version": "3.8.3"
  }
 },
 "nbformat": 4,
 "nbformat_minor": 4
}
